{
 "cells": [
  {
   "cell_type": "code",
   "execution_count": 2,
   "metadata": {},
   "outputs": [],
   "source": [
    "# Basic Import\n",
    "import numpy as np\n",
    "import pandas as pd\n",
    "import matplotlib.pyplot as plt \n",
    "import seaborn as sns\n",
    "# Modelling\n",
    "from sklearn.metrics import mean_squared_error, r2_score\n",
    "from sklearn.neighbors import KNeighborsRegressor\n",
    "from sklearn.tree import DecisionTreeRegressor\n",
    "from sklearn.ensemble import RandomForestRegressor,AdaBoostRegressor\n",
    "# from sklearn.svm import SVR\n",
    "from sklearn.linear_model import LinearRegression, Ridge,Lasso\n",
    "from sklearn.metrics import r2_score, mean_absolute_error, mean_squared_error\n",
    "# from sklearn.model_selection import RandomizedSearchCV\n",
    "from catboost import CatBoostRegressor\n",
    "from xgboost import XGBRegressor\n",
    "import warnings\n",
    "warnings.filterwarnings(\"ignore\")"
   ]
  },
  {
   "cell_type": "markdown",
   "metadata": {},
   "source": [
    "### Importing the CSV Data as Data Frame"
   ]
  },
  {
   "cell_type": "markdown",
   "metadata": {},
   "source": [
    "#### Firslty Importing data for X"
   ]
  },
  {
   "cell_type": "code",
   "execution_count": null,
   "metadata": {},
   "outputs": [
    {
     "data": {
      "text/html": [
       "<div>\n",
       "<style scoped>\n",
       "    .dataframe tbody tr th:only-of-type {\n",
       "        vertical-align: middle;\n",
       "    }\n",
       "\n",
       "    .dataframe tbody tr th {\n",
       "        vertical-align: top;\n",
       "    }\n",
       "\n",
       "    .dataframe thead th {\n",
       "        text-align: right;\n",
       "    }\n",
       "</style>\n",
       "<table border=\"1\" class=\"dataframe\">\n",
       "  <thead>\n",
       "    <tr style=\"text-align: right;\">\n",
       "      <th></th>\n",
       "      <th>No of Bedrooms</th>\n",
       "      <th>No of Bathrooms</th>\n",
       "      <th>Flat Area (in Sqft)</th>\n",
       "      <th>Lot Area (in Sqft)</th>\n",
       "      <th>No of Floors</th>\n",
       "      <th>Waterfront View</th>\n",
       "      <th>Condition of the House</th>\n",
       "      <th>Overall Grade</th>\n",
       "      <th>Area of the House from Basement (in Sqft)</th>\n",
       "      <th>Basement Area (in Sqft)</th>\n",
       "      <th>Age of House (in Years)</th>\n",
       "      <th>Zipcode</th>\n",
       "      <th>Latitude</th>\n",
       "      <th>Longitude</th>\n",
       "      <th>Living Area after Renovation (in Sqft)</th>\n",
       "      <th>Lot Area after Renovation (in Sqft)</th>\n",
       "      <th>Ever Renovated</th>\n",
       "      <th>Years Since Renovation</th>\n",
       "    </tr>\n",
       "  </thead>\n",
       "  <tbody>\n",
       "    <tr>\n",
       "      <th>0</th>\n",
       "      <td>-0.398647</td>\n",
       "      <td>-1.448931</td>\n",
       "      <td>-0.979905</td>\n",
       "      <td>-0.412101</td>\n",
       "      <td>-0.915604</td>\n",
       "      <td>-0.087181</td>\n",
       "      <td>-0.629203</td>\n",
       "      <td>-0.563993</td>\n",
       "      <td>-0.767588</td>\n",
       "      <td>-0.726332</td>\n",
       "      <td>0.544734</td>\n",
       "      <td>1.870094</td>\n",
       "      <td>-0.352576</td>\n",
       "      <td>-0.306108</td>\n",
       "      <td>-1.027547</td>\n",
       "      <td>-0.416515</td>\n",
       "      <td>-0.210155</td>\n",
       "      <td>-0.168911</td>\n",
       "    </tr>\n",
       "    <tr>\n",
       "      <th>1</th>\n",
       "      <td>-0.398647</td>\n",
       "      <td>0.176496</td>\n",
       "      <td>0.533718</td>\n",
       "      <td>-0.139474</td>\n",
       "      <td>0.937193</td>\n",
       "      <td>-0.087181</td>\n",
       "      <td>-0.629203</td>\n",
       "      <td>-0.563993</td>\n",
       "      <td>0.642025</td>\n",
       "      <td>0.538457</td>\n",
       "      <td>0.680915</td>\n",
       "      <td>0.879534</td>\n",
       "      <td>1.161645</td>\n",
       "      <td>-0.746519</td>\n",
       "      <td>-0.355983</td>\n",
       "      <td>-0.048331</td>\n",
       "      <td>4.758385</td>\n",
       "      <td>4.827106</td>\n",
       "    </tr>\n",
       "    <tr>\n",
       "      <th>2</th>\n",
       "      <td>-1.477788</td>\n",
       "      <td>-1.448931</td>\n",
       "      <td>-1.426369</td>\n",
       "      <td>0.221390</td>\n",
       "      <td>-0.915604</td>\n",
       "      <td>-0.087181</td>\n",
       "      <td>-0.629203</td>\n",
       "      <td>-1.468566</td>\n",
       "      <td>-1.618851</td>\n",
       "      <td>-0.726332</td>\n",
       "      <td>1.293731</td>\n",
       "      <td>-0.933379</td>\n",
       "      <td>1.283619</td>\n",
       "      <td>-0.135646</td>\n",
       "      <td>1.130637</td>\n",
       "      <td>0.018241</td>\n",
       "      <td>-0.210155</td>\n",
       "      <td>-0.168911</td>\n",
       "    </tr>\n",
       "    <tr>\n",
       "      <th>3</th>\n",
       "      <td>0.678352</td>\n",
       "      <td>1.149811</td>\n",
       "      <td>-0.130534</td>\n",
       "      <td>-0.544388</td>\n",
       "      <td>-0.915604</td>\n",
       "      <td>-0.087181</td>\n",
       "      <td>2.444136</td>\n",
       "      <td>-0.563993</td>\n",
       "      <td>-1.012639</td>\n",
       "      <td>1.504500</td>\n",
       "      <td>0.204281</td>\n",
       "      <td>1.085122</td>\n",
       "      <td>-0.283288</td>\n",
       "      <td>-1.272266</td>\n",
       "      <td>-0.985854</td>\n",
       "      <td>-0.563287</td>\n",
       "      <td>-0.210155</td>\n",
       "      <td>-0.168911</td>\n",
       "    </tr>\n",
       "    <tr>\n",
       "      <th>4</th>\n",
       "      <td>-0.398647</td>\n",
       "      <td>-0.148266</td>\n",
       "      <td>-0.435436</td>\n",
       "      <td>-0.017762</td>\n",
       "      <td>-0.915604</td>\n",
       "      <td>-0.087181</td>\n",
       "      <td>-0.629203</td>\n",
       "      <td>0.340581</td>\n",
       "      <td>0.025117</td>\n",
       "      <td>-0.726332</td>\n",
       "      <td>-0.544715</td>\n",
       "      <td>-0.073647</td>\n",
       "      <td>0.409587</td>\n",
       "      <td>1.199268</td>\n",
       "      <td>-0.166983</td>\n",
       "      <td>-0.070472</td>\n",
       "      <td>-0.210155</td>\n",
       "      <td>-0.168911</td>\n",
       "    </tr>\n",
       "  </tbody>\n",
       "</table>\n",
       "</div>"
      ],
      "text/plain": [
       "   No of Bedrooms  No of Bathrooms  Flat Area (in Sqft)  Lot Area (in Sqft)  \\\n",
       "0       -0.398647        -1.448931            -0.979905           -0.412101   \n",
       "1       -0.398647         0.176496             0.533718           -0.139474   \n",
       "2       -1.477788        -1.448931            -1.426369            0.221390   \n",
       "3        0.678352         1.149811            -0.130534           -0.544388   \n",
       "4       -0.398647        -0.148266            -0.435436           -0.017762   \n",
       "\n",
       "   No of Floors  Waterfront View  Condition of the House  Overall Grade  \\\n",
       "0     -0.915604        -0.087181               -0.629203      -0.563993   \n",
       "1      0.937193        -0.087181               -0.629203      -0.563993   \n",
       "2     -0.915604        -0.087181               -0.629203      -1.468566   \n",
       "3     -0.915604        -0.087181                2.444136      -0.563993   \n",
       "4     -0.915604        -0.087181               -0.629203       0.340581   \n",
       "\n",
       "   Area of the House from Basement (in Sqft)  Basement Area (in Sqft)  \\\n",
       "0                                  -0.767588                -0.726332   \n",
       "1                                   0.642025                 0.538457   \n",
       "2                                  -1.618851                -0.726332   \n",
       "3                                  -1.012639                 1.504500   \n",
       "4                                   0.025117                -0.726332   \n",
       "\n",
       "   Age of House (in Years)   Zipcode  Latitude  Longitude  \\\n",
       "0                 0.544734  1.870094 -0.352576  -0.306108   \n",
       "1                 0.680915  0.879534  1.161645  -0.746519   \n",
       "2                 1.293731 -0.933379  1.283619  -0.135646   \n",
       "3                 0.204281  1.085122 -0.283288  -1.272266   \n",
       "4                -0.544715 -0.073647  0.409587   1.199268   \n",
       "\n",
       "   Living Area after Renovation (in Sqft)  \\\n",
       "0                               -1.027547   \n",
       "1                               -0.355983   \n",
       "2                                1.130637   \n",
       "3                               -0.985854   \n",
       "4                               -0.166983   \n",
       "\n",
       "   Lot Area after Renovation (in Sqft)  Ever Renovated  Years Since Renovation  \n",
       "0                            -0.416515       -0.210155               -0.168911  \n",
       "1                            -0.048331        4.758385                4.827106  \n",
       "2                             0.018241       -0.210155               -0.168911  \n",
       "3                            -0.563287       -0.210155               -0.168911  \n",
       "4                            -0.070472       -0.210155               -0.168911  "
      ]
     },
     "execution_count": 6,
     "metadata": {},
     "output_type": "execute_result"
    }
   ],
   "source": [
    "X = pd.read_csv('data/processed_data/X.csv')\n",
    "X.head()"
   ]
  },
  {
   "cell_type": "markdown",
   "metadata": {},
   "source": [
    "#### Importing data for target Variable as Y"
   ]
  },
  {
   "cell_type": "code",
   "execution_count": 7,
   "metadata": {},
   "outputs": [
    {
     "data": {
      "text/html": [
       "<div>\n",
       "<style scoped>\n",
       "    .dataframe tbody tr th:only-of-type {\n",
       "        vertical-align: middle;\n",
       "    }\n",
       "\n",
       "    .dataframe tbody tr th {\n",
       "        vertical-align: top;\n",
       "    }\n",
       "\n",
       "    .dataframe thead th {\n",
       "        text-align: right;\n",
       "    }\n",
       "</style>\n",
       "<table border=\"1\" class=\"dataframe\">\n",
       "  <thead>\n",
       "    <tr style=\"text-align: right;\">\n",
       "      <th></th>\n",
       "      <th>Sale Price</th>\n",
       "    </tr>\n",
       "  </thead>\n",
       "  <tbody>\n",
       "    <tr>\n",
       "      <th>0</th>\n",
       "      <td>221900.0</td>\n",
       "    </tr>\n",
       "    <tr>\n",
       "      <th>1</th>\n",
       "      <td>538000.0</td>\n",
       "    </tr>\n",
       "    <tr>\n",
       "      <th>2</th>\n",
       "      <td>180000.0</td>\n",
       "    </tr>\n",
       "    <tr>\n",
       "      <th>3</th>\n",
       "      <td>604000.0</td>\n",
       "    </tr>\n",
       "    <tr>\n",
       "      <th>4</th>\n",
       "      <td>510000.0</td>\n",
       "    </tr>\n",
       "  </tbody>\n",
       "</table>\n",
       "</div>"
      ],
      "text/plain": [
       "   Sale Price\n",
       "0    221900.0\n",
       "1    538000.0\n",
       "2    180000.0\n",
       "3    604000.0\n",
       "4    510000.0"
      ]
     },
     "execution_count": 7,
     "metadata": {},
     "output_type": "execute_result"
    }
   ],
   "source": [
    "y = pd.read_csv('data/processed_data/Y.csv')\n",
    "y.head()"
   ]
  },
  {
   "cell_type": "markdown",
   "metadata": {},
   "source": [
    "### train-test Split"
   ]
  },
  {
   "cell_type": "code",
   "execution_count": 8,
   "metadata": {},
   "outputs": [
    {
     "data": {
      "text/plain": [
       "((17287, 18), (4322, 18))"
      ]
     },
     "execution_count": 8,
     "metadata": {},
     "output_type": "execute_result"
    }
   ],
   "source": [
    "# separate dataset into train and test\n",
    "from sklearn.model_selection import train_test_split\n",
    "X_train, X_test, y_train, y_test = train_test_split(X,y,test_size=0.2,random_state=42)\n",
    "X_train.shape, X_test.shape"
   ]
  },
  {
   "cell_type": "markdown",
   "metadata": {},
   "source": [
    "#### Create a Evaluate Function to give all metrics after Model Training"
   ]
  },
  {
   "cell_type": "code",
   "execution_count": 9,
   "metadata": {},
   "outputs": [],
   "source": [
    "def evaluate_model(true, predicted):\n",
    "    mae = mean_absolute_error(true, predicted)\n",
    "    mse = mean_squared_error(true, predicted)\n",
    "    rmse = np.sqrt(mean_squared_error(true, predicted))\n",
    "    r2_square = r2_score(true, predicted)\n",
    "    return mae, rmse, r2_square"
   ]
  },
  {
   "cell_type": "code",
   "execution_count": 10,
   "metadata": {},
   "outputs": [
    {
     "name": "stdout",
     "output_type": "stream",
     "text": [
      "Linear Regression\n",
      "Model performance for Training set\n",
      "- Root Mean Squared Error: 126937.9676\n",
      "- Mean Absolute Error: 96103.9477\n",
      "- R2 Score: 0.7409\n",
      "----------------------------------\n",
      "Model performance for Test set\n",
      "- Root Mean Squared Error: 127719.0049\n",
      "- Mean Absolute Error: 95647.8720\n",
      "- R2 Score: 0.7444\n",
      "===================================\n",
      "\n",
      "\n",
      "Lasso\n",
      "Model performance for Training set\n",
      "- Root Mean Squared Error: 126937.9682\n",
      "- Mean Absolute Error: 96104.2735\n",
      "- R2 Score: 0.7409\n",
      "----------------------------------\n",
      "Model performance for Test set\n",
      "- Root Mean Squared Error: 127718.8206\n",
      "- Mean Absolute Error: 95648.1068\n",
      "- R2 Score: 0.7444\n",
      "===================================\n",
      "\n",
      "\n",
      "Ridge\n",
      "Model performance for Training set\n",
      "- Root Mean Squared Error: 126937.9708\n",
      "- Mean Absolute Error: 96104.9689\n",
      "- R2 Score: 0.7409\n",
      "----------------------------------\n",
      "Model performance for Test set\n",
      "- Root Mean Squared Error: 127718.5627\n",
      "- Mean Absolute Error: 95648.8747\n",
      "- R2 Score: 0.7444\n",
      "===================================\n",
      "\n",
      "\n",
      "K-Neighbors Regressor\n",
      "Model performance for Training set\n",
      "- Root Mean Squared Error: 83669.7638\n",
      "- Mean Absolute Error: 56851.7628\n",
      "- R2 Score: 0.8874\n",
      "----------------------------------\n",
      "Model performance for Test set\n",
      "- Root Mean Squared Error: 104822.4724\n",
      "- Mean Absolute Error: 70500.4798\n",
      "- R2 Score: 0.8278\n",
      "===================================\n",
      "\n",
      "\n",
      "Decision Tree\n",
      "Model performance for Training set\n",
      "- Root Mean Squared Error: 9732.0855\n",
      "- Mean Absolute Error: 889.2739\n",
      "- R2 Score: 0.9985\n",
      "----------------------------------\n",
      "Model performance for Test set\n",
      "- Root Mean Squared Error: 118310.7306\n",
      "- Mean Absolute Error: 79761.9741\n",
      "- R2 Score: 0.7807\n",
      "===================================\n",
      "\n",
      "\n",
      "Random Forest Regressor\n",
      "Model performance for Training set\n",
      "- Root Mean Squared Error: 32212.0873\n",
      "- Mean Absolute Error: 21253.0042\n",
      "- R2 Score: 0.9833\n",
      "----------------------------------\n",
      "Model performance for Test set\n",
      "- Root Mean Squared Error: 84651.0419\n",
      "- Mean Absolute Error: 57011.1216\n",
      "- R2 Score: 0.8877\n",
      "===================================\n",
      "\n",
      "\n",
      "XGBRegressor\n",
      "Model performance for Training set\n",
      "- Root Mean Squared Error: 49385.9407\n",
      "- Mean Absolute Error: 35709.6328\n",
      "- R2 Score: 0.9608\n",
      "----------------------------------\n",
      "Model performance for Test set\n",
      "- Root Mean Squared Error: 81369.0976\n",
      "- Mean Absolute Error: 55505.5977\n",
      "- R2 Score: 0.8963\n",
      "===================================\n",
      "\n",
      "\n",
      "CatBoosting Regressor\n",
      "Model performance for Training set\n",
      "- Root Mean Squared Error: 59424.1972\n",
      "- Mean Absolute Error: 42560.1797\n",
      "- R2 Score: 0.9432\n",
      "----------------------------------\n",
      "Model performance for Test set\n",
      "- Root Mean Squared Error: 74557.9323\n",
      "- Mean Absolute Error: 51955.6599\n",
      "- R2 Score: 0.9129\n",
      "===================================\n",
      "\n",
      "\n",
      "AdaBoost Regressor\n",
      "Model performance for Training set\n",
      "- Root Mean Squared Error: 141918.2841\n",
      "- Mean Absolute Error: 121478.4062\n",
      "- R2 Score: 0.6762\n",
      "----------------------------------\n",
      "Model performance for Test set\n",
      "- Root Mean Squared Error: 144154.6833\n",
      "- Mean Absolute Error: 122761.6084\n",
      "- R2 Score: 0.6744\n",
      "===================================\n",
      "\n",
      "\n"
     ]
    }
   ],
   "source": [
    "models = {\n",
    "    \"Linear Regression\": LinearRegression(),\n",
    "    \"Lasso\": Lasso(),\n",
    "    \"Ridge\": Ridge(),\n",
    "    \"K-Neighbors Regressor\": KNeighborsRegressor(),\n",
    "    \"Decision Tree\": DecisionTreeRegressor(),\n",
    "    \"Random Forest Regressor\": RandomForestRegressor(),\n",
    "    \"XGBRegressor\": XGBRegressor(), \n",
    "    \"CatBoosting Regressor\": CatBoostRegressor(verbose=False),\n",
    "    \"AdaBoost Regressor\": AdaBoostRegressor()\n",
    "}\n",
    "model_list = []\n",
    "r2_list =[]\n",
    "\n",
    "for i in range(len(list(models))):\n",
    "    model = list(models.values())[i]\n",
    "    model.fit(X_train, y_train) # Train model\n",
    "\n",
    "    # Make predictions\n",
    "    y_train_pred = model.predict(X_train)\n",
    "    y_test_pred = model.predict(X_test)\n",
    "    \n",
    "    # Evaluate Train and Test dataset\n",
    "    model_train_mae , model_train_rmse, model_train_r2 = evaluate_model(y_train, y_train_pred)\n",
    "\n",
    "    model_test_mae , model_test_rmse, model_test_r2 = evaluate_model(y_test, y_test_pred)\n",
    "\n",
    "    \n",
    "    print(list(models.keys())[i])\n",
    "    model_list.append(list(models.keys())[i])\n",
    "    \n",
    "    print('Model performance for Training set')\n",
    "    print(\"- Root Mean Squared Error: {:.4f}\".format(model_train_rmse))\n",
    "    print(\"- Mean Absolute Error: {:.4f}\".format(model_train_mae))\n",
    "    print(\"- R2 Score: {:.4f}\".format(model_train_r2))\n",
    "\n",
    "    print('----------------------------------')\n",
    "    \n",
    "    print('Model performance for Test set')\n",
    "    print(\"- Root Mean Squared Error: {:.4f}\".format(model_test_rmse))\n",
    "    print(\"- Mean Absolute Error: {:.4f}\".format(model_test_mae))\n",
    "    print(\"- R2 Score: {:.4f}\".format(model_test_r2))\n",
    "    r2_list.append(model_test_r2)\n",
    "    \n",
    "    print('='*35)\n",
    "    print('\\n')"
   ]
  },
  {
   "cell_type": "markdown",
   "metadata": {},
   "source": [
    "### Results"
   ]
  },
  {
   "cell_type": "code",
   "execution_count": 11,
   "metadata": {},
   "outputs": [
    {
     "data": {
      "text/html": [
       "<div>\n",
       "<style scoped>\n",
       "    .dataframe tbody tr th:only-of-type {\n",
       "        vertical-align: middle;\n",
       "    }\n",
       "\n",
       "    .dataframe tbody tr th {\n",
       "        vertical-align: top;\n",
       "    }\n",
       "\n",
       "    .dataframe thead th {\n",
       "        text-align: right;\n",
       "    }\n",
       "</style>\n",
       "<table border=\"1\" class=\"dataframe\">\n",
       "  <thead>\n",
       "    <tr style=\"text-align: right;\">\n",
       "      <th></th>\n",
       "      <th>Model Name</th>\n",
       "      <th>R2_Score</th>\n",
       "    </tr>\n",
       "  </thead>\n",
       "  <tbody>\n",
       "    <tr>\n",
       "      <th>7</th>\n",
       "      <td>CatBoosting Regressor</td>\n",
       "      <td>0.912903</td>\n",
       "    </tr>\n",
       "    <tr>\n",
       "      <th>6</th>\n",
       "      <td>XGBRegressor</td>\n",
       "      <td>0.896263</td>\n",
       "    </tr>\n",
       "    <tr>\n",
       "      <th>5</th>\n",
       "      <td>Random Forest Regressor</td>\n",
       "      <td>0.887726</td>\n",
       "    </tr>\n",
       "    <tr>\n",
       "      <th>3</th>\n",
       "      <td>K-Neighbors Regressor</td>\n",
       "      <td>0.827844</td>\n",
       "    </tr>\n",
       "    <tr>\n",
       "      <th>4</th>\n",
       "      <td>Decision Tree</td>\n",
       "      <td>0.780688</td>\n",
       "    </tr>\n",
       "    <tr>\n",
       "      <th>2</th>\n",
       "      <td>Ridge</td>\n",
       "      <td>0.744423</td>\n",
       "    </tr>\n",
       "    <tr>\n",
       "      <th>1</th>\n",
       "      <td>Lasso</td>\n",
       "      <td>0.744422</td>\n",
       "    </tr>\n",
       "    <tr>\n",
       "      <th>0</th>\n",
       "      <td>Linear Regression</td>\n",
       "      <td>0.744421</td>\n",
       "    </tr>\n",
       "    <tr>\n",
       "      <th>8</th>\n",
       "      <td>AdaBoost Regressor</td>\n",
       "      <td>0.674410</td>\n",
       "    </tr>\n",
       "  </tbody>\n",
       "</table>\n",
       "</div>"
      ],
      "text/plain": [
       "                Model Name  R2_Score\n",
       "7    CatBoosting Regressor  0.912903\n",
       "6             XGBRegressor  0.896263\n",
       "5  Random Forest Regressor  0.887726\n",
       "3    K-Neighbors Regressor  0.827844\n",
       "4            Decision Tree  0.780688\n",
       "2                    Ridge  0.744423\n",
       "1                    Lasso  0.744422\n",
       "0        Linear Regression  0.744421\n",
       "8       AdaBoost Regressor  0.674410"
      ]
     },
     "execution_count": 11,
     "metadata": {},
     "output_type": "execute_result"
    }
   ],
   "source": [
    "pd.DataFrame(list(zip(model_list, r2_list)), columns=['Model Name', 'R2_Score']).sort_values(by=[\"R2_Score\"],ascending=False)"
   ]
  },
  {
   "cell_type": "markdown",
   "metadata": {},
   "source": [
    "### Chatboosting Regressor"
   ]
  },
  {
   "cell_type": "code",
   "execution_count": 13,
   "metadata": {},
   "outputs": [
    {
     "name": "stdout",
     "output_type": "stream",
     "text": [
      " Accuracy of the model is 91.29\n"
     ]
    }
   ],
   "source": [
    "cbr_model = CatBoostRegressor(verbose=False)\n",
    "cbr_model = cbr_model.fit(X_train, y_train)\n",
    "y_pred = cbr_model.predict(X_test)\n",
    "score = r2_score(y_test, y_pred)*100\n",
    "print(\" Accuracy of the model is %.2f\" %score)"
   ]
  },
  {
   "cell_type": "markdown",
   "metadata": {},
   "source": [
    "### Plot y_pred and y_test"
   ]
  },
  {
   "cell_type": "code",
   "execution_count": 14,
   "metadata": {},
   "outputs": [
    {
     "data": {
      "image/png": "[encoded data removed]",
      "text/plain": [
       "<Figure size 640x480 with 1 Axes>"
      ]
     },
     "metadata": {},
     "output_type": "display_data"
    }
   ],
   "source": [
    "plt.scatter(y_test,y_pred);\n",
    "plt.xlabel('Actual');\n",
    "plt.ylabel('Predicted');"
   ]
  },
  {
   "cell_type": "code",
   "execution_count": 15,
   "metadata": {},
   "outputs": [
    {
     "data": {
      "image/png": "[encoded data removed]",
      "text/plain": [
       "<Figure size 640x480 with 1 Axes>"
      ]
     },
     "metadata": {},
     "output_type": "display_data"
    }
   ],
   "source": [
    "sns.regplot(x=y_test,y=y_pred,ci=None,color ='red');"
   ]
  },
  {
   "cell_type": "code",
   "execution_count": 19,
   "metadata": {},
   "outputs": [
    {
     "name": "stdout",
     "output_type": "stream",
     "text": [
      "       Actual Value  Predicted Value    Difference\n",
      "4982       570000.0    527071.490385  42928.509615\n",
      "10254      720001.0    625911.415026  94089.584974\n",
      "4044       267000.0    249660.299557  17339.700443\n",
      "21267      365000.0    370652.798946  -5652.798946\n",
      "10494      397000.0    487115.207185 -90115.207185\n"
     ]
    }
   ],
   "source": [
    "import pandas as pd\n",
    "\n",
    "# Ensure y_test and y_pred are Pandas Series\n",
    "y_test = y_test.squeeze()  # Convert DataFrame to Series (if applicable)\n",
    "y_pred = y_pred.squeeze()  # Convert DataFrame to Series (if applicable)\n",
    "\n",
    "# Create the DataFrame\n",
    "pred_df = pd.DataFrame({\n",
    "    'Actual Value': y_test,\n",
    "    'Predicted Value': y_pred,\n",
    "    'Difference': y_test - y_pred\n",
    "})\n",
    "\n",
    "# Display first few rows\n",
    "print(pred_df.head())\n",
    "\n"
   ]
  }
 ],
 "metadata": {
  "kernelspec": {
   "display_name": "base",
   "language": "python",
   "name": "python3"
  },
  "language_info": {
   "codemirror_mode": {
    "name": "ipython",
    "version": 3
   },
   "file_extension": ".py",
   "mimetype": "text/x-python",
   "name": "python",
   "nbconvert_exporter": "python",
   "pygments_lexer": "ipython3",
   "version": "3.12.4"
  }
 },
 "nbformat": 4,
 "nbformat_minor": 2
}
